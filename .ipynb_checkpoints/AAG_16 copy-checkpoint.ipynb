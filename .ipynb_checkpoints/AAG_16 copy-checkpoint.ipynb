{
 "cells": [
  {
   "cell_type": "markdown",
   "metadata": {},
   "source": [
    "----------------------"
   ]
  },
  {
   "cell_type": "code",
   "execution_count": null,
   "metadata": {
    "collapsed": true
   },
   "outputs": [],
   "source": [
    "#    GNU LESSER GENERAL PUBLIC LICENSE\n",
    "#    Version 3, 29 June 2007\n",
    "#    Copyright (C) 2007 Free Software Foundation, Inc. <http://fsf.org/>\n",
    "#    Everyone is permitted to copy and distribute verbatim copies\n",
    "#    of this license document, but changing it is not allowed.\n",
    "\n",
    "#    James Gaboardi, 2016"
   ]
  },
  {
   "cell_type": "markdown",
   "metadata": {},
   "source": [
    "--------------"
   ]
  },
  {
   "cell_type": "markdown",
   "metadata": {},
   "source": [
    "# Automating Multiple Single-Objective Spatial Optimization Models for Efficiency and Reproducibility\n",
    "\n",
    "----\n",
    "\n",
    "----\n",
    "\n",
    "## James D. Gaboardi &nbsp;&nbsp; |  &nbsp;&nbsp; Association of American Geographers  2016\n",
    "\n",
    "----\n",
    "\n",
    "----\n",
    "\n",
    "## Florida State University  &nbsp;&nbsp; |  &nbsp;&nbsp; Department of Geography "
   ]
  },
  {
   "cell_type": "markdown",
   "metadata": {},
   "source": [
    "---"
   ]
  },
  {
   "cell_type": "markdown",
   "metadata": {},
   "source": [
    "# Outline"
   ]
  },
  {
   "cell_type": "markdown",
   "metadata": {},
   "source": [
    "- **Background & Information**\n",
    "\n",
    "\n",
    "- **Models**\n",
    "    - **PMP**\n",
    "    - **PCP**\n",
    "    - **CentDian**\n",
    "    - **PMCP Method**\n",
    "\n",
    "\n",
    "- **Data & Processing**\n",
    "\n",
    "\n",
    "- **Solutions**\n",
    "\n",
    "\n",
    "- **Visualizations**\n",
    "\n",
    "\n",
    "- **Future Work**\n",
    "    - **COIN-OR**"
   ]
  },
  {
   "cell_type": "markdown",
   "metadata": {},
   "source": [
    "----------"
   ]
  },
  {
   "cell_type": "markdown",
   "metadata": {},
   "source": [
    "### Set Path"
   ]
  },
  {
   "cell_type": "code",
   "execution_count": 1,
   "metadata": {
    "collapsed": true
   },
   "outputs": [],
   "source": [
    "import IPython.display as IPd\n",
    "\n",
    "# Local path on user's machine\n",
    "path = '/Users/jgaboardi/AAG_16/Data/'"
   ]
  },
  {
   "cell_type": "markdown",
   "metadata": {},
   "source": [
    "# Background & Information"
   ]
  },
  {
   "cell_type": "markdown",
   "metadata": {},
   "source": [
    "$\\Rightarrow$ Automating solutions for *p*-median, *p*-center, and *p*-centdian problems with *p*={1, 2, ..., *n*} facilities\n",
    "\n",
    "$\\Rightarrow$ Compare coverage and costs numerically, graphically, and visually "
   ]
  },
  {
   "cell_type": "markdown",
   "metadata": {},
   "source": [
    "# `PySAL 1.11.0`  $\\Rightarrow$ `PySAL.Network`\n",
    "### Python Spatial Analysis Library\n",
    "[https://www.pysal.readthedocs.org]"
   ]
  },
  {
   "cell_type": "markdown",
   "metadata": {
    "collapsed": true
   },
   "source": [
    "Sergio Rey at Arizona State University leads the PySAL project.\n",
    "[https://geoplan.asu.edu/people/sergio-j-rey]. \n",
    "\n",
    "`PySAL.Network` was principally developed by Jay Laura at Arizona State Universty and the United States Geological Suvery.  [https://geoplan.asu.edu/people/jay-laura]\n",
    "\n",
    "\"PySAL is an open source library of spatial analysis functions written in Python intended to support the development of high level applications. PySAL is open source under the BSD License.\" [https://pysal.readthedocs.org/en/latest/]"
   ]
  },
  {
   "cell_type": "markdown",
   "metadata": {},
   "source": [
    "# `Gurobi 6.5.0` $\\Rightarrow$ `gurobipy`"
   ]
  },
  {
   "cell_type": "markdown",
   "metadata": {},
   "source": [
    "Relatively new company founded by optimization experts formerly at key positions with CPLEX.\n",
    "[http://www.gurobi.com] [http://www.gurobi.com/company/about-gurobi]"
   ]
  },
  {
   "cell_type": "markdown",
   "metadata": {},
   "source": [
    "# Models"
   ]
  },
  {
   "cell_type": "markdown",
   "metadata": {},
   "source": [
    "## The *p*-Median Problem  $\\Rightarrow$ \"minimum total cost\" $\\Rightarrow$ efficiency"
   ]
  },
  {
   "cell_type": "markdown",
   "metadata": {},
   "source": [
    "The objective of the *p*-median problem, also know as the minimsum problem and the PMP, is to minimize the total weighted cost while siting [*p*] facilities to serve all demand/client nodes.  It was originally proposed by Hakimi (1964) and is well-studied in Geography, Operations Research, Mathematics, etc.  In this particular project the network-based vertice PMP is used meaning the cost will be calculated on a road network and solutions will be determined based on discrete locations.  Cost is generally defined as either travel time or distance and it is the latter in the project.  Population (demand) utilized as a weight at each client node.  The average cost can be calculated by dividing the minimized total cost by the total demand.\n",
    "\n",
    "*For more information refer to references section.*"
   ]
  },
  {
   "cell_type": "markdown",
   "metadata": {},
   "source": [
    "**Minimize**\n",
    "### &nbsp;&nbsp;&nbsp;&nbsp;&nbsp;&nbsp;&nbsp;&nbsp; $\\displaystyle {Z} = {\\sum_{i \\in 1}^n\\sum_{j\\in 1}^m a_i c_{ij} x_{ij}}$\n",
    "**Subject to**\n",
    "### &nbsp;&nbsp;&nbsp;&nbsp;&nbsp;&nbsp;&nbsp;&nbsp; $\\displaystyle\\sum_{j\\in m} x_{ij}  = 1 ,$&nbsp;&nbsp;&nbsp;&nbsp;&nbsp;&nbsp;&nbsp;&nbsp;  $\\forall i \\in n$\n",
    "### &nbsp;&nbsp;&nbsp;&nbsp;&nbsp;&nbsp;&nbsp;&nbsp; $\\displaystyle\\sum_{j \\in m} y_j = p$\n",
    "### &nbsp;&nbsp;&nbsp;&nbsp;&nbsp;&nbsp;&nbsp;&nbsp; $x_{ij} - y_j \\geq 0,$ &nbsp;&nbsp;&nbsp;&nbsp;&nbsp;&nbsp; $\\forall i \\in n, j \\in m$\n",
    "### &nbsp;&nbsp;&nbsp;&nbsp;&nbsp;&nbsp;&nbsp;&nbsp; $x_{ij}, y_j \\in \\{0,1\\}$ &nbsp;&nbsp; $\\forall i \\in n , j \\in m$\n",
    "**where**\n",
    "- $i$ = a specific origin\n",
    "- $j$ = a specific destination\n",
    "- $n$ = the set of origins\n",
    "- $m$ = the set of destinations\n",
    "- $a_i$ = weight at each node\n",
    "- $c_{ij}$ = travel costs between nodes\n",
    "- $x_{ij}$ = the decision variable at each node in the matrix\n",
    "- $y_j$ = nodes chosen as service facilities\n",
    "- $p$ = the number of facilities to be sited\n",
    "\n",
    "-----\n",
    "\n",
    "Adapted from:\n",
    "- ***Daskin, M. S. 1995***. Network and Discrete Location: Models, Algorithms, and Applications. Hoboken, NJ, USA: John Wiley & Sons, Inc."
   ]
  },
  {
   "cell_type": "markdown",
   "metadata": {},
   "source": [
    "---"
   ]
  },
  {
   "cell_type": "markdown",
   "metadata": {},
   "source": [
    "## The *p*-Center Problem $\\Rightarrow$ \"minimum worst case\" $\\Rightarrow$ equity"
   ]
  },
  {
   "cell_type": "markdown",
   "metadata": {},
   "source": [
    "The objective of the *p*-center problem, also know as the minimax problem and the PCP, is to \n",
    "minimize the worst case cost (*W*) scenario while siting [*p*] facilities to serve all demand/client nodes.  It was originally proposed by Minieka (1970) and, like the PMP, is well-studied in Geography, Operations Research, Mathematics, etc.  In this particular project the network-based vertice PCP is used meaning the cost will be calculated on a road network and solutions will be determined based on discrete locations.  Cost is generally defined as either travel time or distance and it is the latter in the project.\n",
    "\n",
    "*For more information refer to references section.*"
   ]
  },
  {
   "cell_type": "markdown",
   "metadata": {},
   "source": [
    "**Minimize**\n",
    "\n",
    "### &nbsp;&nbsp;&nbsp;&nbsp;&nbsp;&nbsp;&nbsp;&nbsp; $W$\n",
    "\n",
    "**Subject to**\n",
    "\n",
    "### &nbsp;&nbsp;&nbsp;&nbsp;&nbsp;&nbsp;&nbsp;&nbsp; $\\displaystyle\\sum_{j\\in m} x_{ij} = 1,$ &nbsp;&nbsp;&nbsp;&nbsp;&nbsp;&nbsp;&nbsp;&nbsp;&nbsp;&nbsp;&nbsp;&nbsp;   $\\forall i \\in n$\n",
    "\n",
    "### &nbsp;&nbsp;&nbsp;&nbsp;&nbsp;&nbsp;&nbsp;&nbsp; $\\displaystyle\\sum_{j \\in m} y_j = p$\n",
    "\n",
    "### &nbsp;&nbsp;&nbsp;&nbsp;&nbsp;&nbsp;&nbsp;&nbsp; $x_{ij} - y_j \\geq 0,$ &nbsp;&nbsp;&nbsp;&nbsp;&nbsp;&nbsp;&nbsp;&nbsp;&nbsp;&nbsp;&nbsp;  $\\forall i\\in n, j \\in m$\n",
    "\n",
    "### &nbsp;&nbsp;&nbsp;&nbsp;&nbsp;&nbsp;&nbsp;&nbsp; $\\displaystyle W \\geq \\sum_{j \\in m} c_{ij} x_{ij}$&nbsp;&nbsp;&nbsp;&nbsp;&nbsp;&nbsp;&nbsp;&nbsp;&nbsp; $\\forall i \\in n$\n",
    "\n",
    "### &nbsp;&nbsp;&nbsp;&nbsp;&nbsp;&nbsp;&nbsp;&nbsp; $x_{ij}, y_j \\in \\{0,1\\}$ &nbsp;&nbsp;&nbsp;&nbsp;&nbsp;&nbsp;&nbsp; $\\forall i \\in n, j \\in m$\n",
    "\n",
    "**where**\n",
    "\n",
    "- $W$ = the worst case cost between a client and a service node\n",
    "- $i$ = a specific origin\n",
    "- $j$ = a specific destination\n",
    "- $n$ = the set of origins\n",
    "- $m$ = the set of destinations\n",
    "- $a_i$ = weight at each node\n",
    "- $c_{ij}$ = travel costs between nodes\n",
    "- $x_{ij}$ = the decision variable at each node in the matrix\n",
    "- $y_j$ = nodes chosen as service facilities\n",
    "- $p$ = the number of facilities to be sited\n",
    "\n",
    "-----\n",
    "\n",
    "Adapted from:\n",
    "- ***Daskin, M. S. 1995***. Network and Discrete Location: Models, Algorithms, and Applications. Hoboken, NJ, USA: John Wiley & Sons, Inc."
   ]
  },
  {
   "cell_type": "markdown",
   "metadata": {},
   "source": [
    "----"
   ]
  },
  {
   "cell_type": "markdown",
   "metadata": {},
   "source": [
    "## The *p*-CentDian Problem"
   ]
  },
  {
   "cell_type": "markdown",
   "metadata": {},
   "source": [
    "The *p*-CentDian Problem was first descibed by Halpern (1976).  It is a combination of the *p*-median problem and the *p*-center problem with a dual objective of minimizing both the worst case scenario and the total travel distance. The objective used for the model in this demonstration is the average of (1) the *p*-center objective function and (2) the *p*-median objective function divided by the total demand.  An alternative formulation is the *p*-$\\lambda$-CentDian Problem, where ( $\\lambda$ ) represents the weight attributed to the *p*-center objective function and (1 - $\\lambda$) represents the weight attributed to the *p*-median objective function which was was proposed by Pérez-Brito, et al (1997). \n",
    "\n",
    "*For more information refer to references section.*"
   ]
  },
  {
   "cell_type": "markdown",
   "metadata": {},
   "source": [
    "**Minimize**\n",
    "\n",
    "\n",
    "### &nbsp;&nbsp;&nbsp;&nbsp;&nbsp;&nbsp;&nbsp;&nbsp; $ \\displaystyle {W + {Z \\over \\sum_{i=1}a_i} \\over 2}$\n",
    "\n",
    "\n",
    "**Subject to**\n",
    "\n",
    "### &nbsp;&nbsp;&nbsp;&nbsp;&nbsp;&nbsp;&nbsp;&nbsp; $\\displaystyle\\sum_{j\\in m} x_{ij} = 1,$ &nbsp;&nbsp;&nbsp;&nbsp;&nbsp;&nbsp;&nbsp;&nbsp;&nbsp;&nbsp;&nbsp;&nbsp;   $\\forall i \\in n$\n",
    "\n",
    "### &nbsp;&nbsp;&nbsp;&nbsp;&nbsp;&nbsp;&nbsp;&nbsp; $\\displaystyle\\sum_{j \\in m} y_j = p$\n",
    "\n",
    "### &nbsp;&nbsp;&nbsp;&nbsp;&nbsp;&nbsp;&nbsp;&nbsp; $x_{ij} - y_j \\geq 0,$ &nbsp;&nbsp;&nbsp;&nbsp;&nbsp;&nbsp;&nbsp;&nbsp;&nbsp;&nbsp;&nbsp;  $\\forall i\\in n, j \\in m$\n",
    "\n",
    "### &nbsp;&nbsp;&nbsp;&nbsp;&nbsp;&nbsp;&nbsp;&nbsp; $\\displaystyle W \\geq \\sum_{j \\in m} c_{ij} x_{ij}$&nbsp;&nbsp;&nbsp;&nbsp;&nbsp;&nbsp;&nbsp;&nbsp;&nbsp; $\\forall i \\in n$\n",
    "\n",
    "### &nbsp;&nbsp;&nbsp;&nbsp;&nbsp;&nbsp;&nbsp;&nbsp; $x_{ij}, y_j \\in \\{0,1\\}$ &nbsp;&nbsp;&nbsp;&nbsp;&nbsp;&nbsp;&nbsp; $\\forall i \\in n, j \\in m$\n",
    "\n",
    "**where**\n",
    "\n",
    "- $W$ = the maximum travel cost between client and service nodes\n",
    "- $Z$ = the minimized total travel cost $\\big({\\sum_{i \\in 1}^n\\sum_{j\\in 1}^m a_i c_{ij} x_{ij}}\\big)$\n",
    "- $i$ = a specific origin\n",
    "- $j$ = a specific destination\n",
    "- $n$ = the set of origins\n",
    "- $m$ = the set of destinations\n",
    "- $a_i$ = weight at each node\n",
    "- $c_{ij}$ = travel costs between nodes\n",
    "- $x_{ij}$ = the decision variable at each node in the matrix\n",
    "- $y_j$ = nodes chosen as service facilities\n",
    "- $p$ = the number of facilities to be sited\n",
    "\n",
    "-----\n",
    "\n",
    "Adapted from:\n",
    "\n",
    "- ***Halpern, J. 1976***. The Location of a Center-Median Convex Combination on an Undirected Tree*. Journal of Regional Science 16 (2):237–245"
   ]
  },
  {
   "cell_type": "markdown",
   "metadata": {},
   "source": [
    "----"
   ]
  },
  {
   "cell_type": "markdown",
   "metadata": {},
   "source": [
    "## The PMCP Method"
   ]
  },
  {
   "cell_type": "markdown",
   "metadata": {},
   "source": [
    "### $\\Rightarrow$ solve the *PMP* and *PCP* to determine with optimal locations with equivalent [*p*]\n",
    "### $\\Rightarrow$ \"poor man's\" *p*-CentDian Problem?\n",
    "- automated & efficient decision making for those who don't have access to multiple-objective capable solvers or the know-how to formulate a mutliple objectives into a single objective funtion\n",
    "\n",
    "\n",
    "- ***what it is***:\n",
    "    - a comparision to determine equivalent site selection of single objective solutions\n",
    "    - probably best used with low cost sites\n",
    "    - a opportunity for finding optimal solutions without sacrificing either efficiency or equity\n",
    " \n",
    " \n",
    "- ***what it is not***:\n",
    "    - an optimization solution with multiple objective functions\n",
    "    - capable of a true 'best solution' trade-off between efficiency and equity\n",
    "    - guaranteed to find identical solutions"
   ]
  },
  {
   "cell_type": "markdown",
   "metadata": {},
   "source": [
    "## Workflow for PMCP"
   ]
  },
  {
   "cell_type": "code",
   "execution_count": null,
   "metadata": {
    "collapsed": false
   },
   "outputs": [],
   "source": [
    "# Conceptual Model Workflow\n",
    "workflow = IPd.Image(path+'/AAG_16.png')\n",
    "workflow"
   ]
  },
  {
   "cell_type": "markdown",
   "metadata": {},
   "source": [
    "----"
   ]
  },
  {
   "cell_type": "markdown",
   "metadata": {},
   "source": [
    "# Data & Processing"
   ]
  },
  {
   "cell_type": "markdown",
   "metadata": {},
   "source": [
    "### Process Imports"
   ]
  },
  {
   "cell_type": "code",
   "execution_count": 2,
   "metadata": {
    "collapsed": false
   },
   "outputs": [
    {
     "name": "stderr",
     "output_type": "stream",
     "text": [
      "/Users/jgaboardi/Library/Enthought/Canopy_64bit/User/lib/python2.7/site-packages/matplotlib/font_manager.py:273: UserWarning: Matplotlib is building the font cache using fc-list. This may take a moment.\n",
      "  warnings.warn('Matplotlib is building the font cache using fc-list. This may take a moment.')\n"
     ]
    },
    {
     "data": {
      "text/html": [
       "\n",
       "    <div class=\"bk-banner\">\n",
       "        <a href=\"http://bokeh.pydata.org\" target=\"_blank\" class=\"bk-logo bk-logo-small bk-logo-notebook\"></a>\n",
       "        <span id=\"6279d6ed-2dde-41ba-aa46-cb264ae4b4b8\">Loading BokehJS ...</span>\n",
       "    </div>"
      ]
     },
     "metadata": {},
     "output_type": "display_data"
    },
    {
     "data": {
      "application/javascript": [
       "\n",
       "(function(global) {\n",
       "  function now() {\n",
       "    return new Date();\n",
       "  }\n",
       "\n",
       "  if (typeof (window._bokeh_onload_callbacks) === \"undefined\") {\n",
       "    window._bokeh_onload_callbacks = [];\n",
       "  }\n",
       "\n",
       "  function run_callbacks() {\n",
       "    window._bokeh_onload_callbacks.forEach(function(callback) { callback() });\n",
       "    delete window._bokeh_onload_callbacks\n",
       "    console.info(\"Bokeh: all callbacks have finished\");\n",
       "  }\n",
       "\n",
       "  function load_libs(js_urls, callback) {\n",
       "    window._bokeh_onload_callbacks.push(callback);\n",
       "    if (window._bokeh_is_loading > 0) {\n",
       "      console.log(\"Bokeh: BokehJS is being loaded, scheduling callback at\", now());\n",
       "      return null;\n",
       "    }\n",
       "    if (js_urls == null || js_urls.length === 0) {\n",
       "      run_callbacks();\n",
       "      return null;\n",
       "    }\n",
       "    console.log(\"Bokeh: BokehJS not loaded, scheduling load and callback at\", now());\n",
       "    window._bokeh_is_loading = js_urls.length;\n",
       "    for (var i = 0; i < js_urls.length; i++) {\n",
       "      var url = js_urls[i];\n",
       "      var s = document.createElement('script');\n",
       "      s.src = url;\n",
       "      s.async = false;\n",
       "      s.onreadystatechange = s.onload = function() {\n",
       "        window._bokeh_is_loading--;\n",
       "        if (window._bokeh_is_loading === 0) {\n",
       "          console.log(\"Bokeh: all BokehJS libraries loaded\");\n",
       "          run_callbacks()\n",
       "        }\n",
       "      };\n",
       "      s.onerror = function() {\n",
       "        console.warn(\"failed to load library \" + url);\n",
       "      };\n",
       "      console.log(\"Bokeh: injecting script tag for BokehJS library: \", url);\n",
       "      document.getElementsByTagName(\"head\")[0].appendChild(s);\n",
       "    }\n",
       "  };\n",
       "\n",
       "  var js_urls = ['https://cdn.pydata.org/bokeh/release/bokeh-0.11.1.min.js', 'https://cdn.pydata.org/bokeh/release/bokeh-widgets-0.11.1.min.js', 'https://cdn.pydata.org/bokeh/release/bokeh-compiler-0.11.1.min.js'];\n",
       "\n",
       "  var inline_js = [\n",
       "    function(Bokeh) {\n",
       "      Bokeh.set_log_level(\"info\");\n",
       "    },\n",
       "    \n",
       "    function(Bokeh) {\n",
       "      Bokeh.$(\"#6279d6ed-2dde-41ba-aa46-cb264ae4b4b8\").text(\"BokehJS successfully loaded\");\n",
       "    },\n",
       "    function(Bokeh) {\n",
       "      console.log(\"Bokeh: injecting CSS: https://cdn.pydata.org/bokeh/release/bokeh-0.11.1.min.css\");\n",
       "      Bokeh.embed.inject_css(\"https://cdn.pydata.org/bokeh/release/bokeh-0.11.1.min.css\");\n",
       "      console.log(\"Bokeh: injecting CSS: https://cdn.pydata.org/bokeh/release/bokeh-widgets-0.11.1.min.css\");\n",
       "      Bokeh.embed.inject_css(\"https://cdn.pydata.org/bokeh/release/bokeh-widgets-0.11.1.min.css\");\n",
       "    }\n",
       "  ];\n",
       "\n",
       "  function run_inline_js() {\n",
       "    for (var i = 0; i < inline_js.length; i++) {\n",
       "      inline_js[i](window.Bokeh);\n",
       "    }\n",
       "  }\n",
       "\n",
       "  if (window._bokeh_is_loading === 0) {\n",
       "    console.log(\"Bokeh: BokehJS loaded, going straight to plotting\");\n",
       "    run_inline_js();\n",
       "  } else {\n",
       "    load_libs(js_urls, function() {\n",
       "      console.log(\"Bokeh: BokehJS plotting callback run at\", now());\n",
       "      run_inline_js();\n",
       "    });\n",
       "  }\n",
       "}(this));"
      ]
     },
     "metadata": {},
     "output_type": "display_data"
    }
   ],
   "source": [
    "import pysal as ps\n",
    "import geopandas as gpd\n",
    "import numpy as np\n",
    "import networkx as nx\n",
    "import shapefile as shp\n",
    "from shapely.geometry import Point\n",
    "import shapely\n",
    "from collections import OrderedDict\n",
    "import pandas as pd\n",
    "import qgrid\n",
    "import gurobipy as gbp\n",
    "import time\n",
    "import bokeh\n",
    "from bokeh.plotting import figure, show, ColumnDataSource\n",
    "from bokeh.io import output_notebook, output_file, show\n",
    "from bokeh.models import (HoverTool, BoxAnnotation, GeoJSONDataSource, \n",
    "                          GMapPlot, GMapOptions, ColumnDataSource, Circle, \n",
    "                          DataRange1d, PanTool, WheelZoomTool, BoxSelectTool,\n",
    "                          ResetTool, MultiLine)\n",
    "import utm\n",
    "from cylp.cy import CyCbcModel, CyClpSimplex\n",
    "import matplotlib.pyplot as plt\n",
    "import matplotlib as mpl\n",
    "%matplotlib inline\n",
    "mpl.rcParams['figure.figsize']=8,8\n",
    "output_notebook()"
   ]
  },
  {
   "cell_type": "markdown",
   "metadata": {},
   "source": [
    "# Data preparation"
   ]
  },
  {
   "cell_type": "code",
   "execution_count": 3,
   "metadata": {
    "collapsed": true
   },
   "outputs": [],
   "source": [
    "import spanoptpy as sp"
   ]
  },
  {
   "cell_type": "code",
   "execution_count": 4,
   "metadata": {
    "collapsed": false
   },
   "outputs": [
    {
     "name": "stdout",
     "output_type": "stream",
     "text": [
      "['__builtins__', '__doc__', '__file__', '__name__', '__package__', '__path__', 'author', 'spatan', 'spatopt', 'version']\n"
     ]
    }
   ],
   "source": [
    "print dir(sp)"
   ]
  },
  {
   "cell_type": "code",
   "execution_count": 10,
   "metadata": {
    "collapsed": false
   },
   "outputs": [],
   "source": [
    "from spanoptpy import AAG16_DataPrep "
   ]
  },
  {
   "cell_type": "code",
   "execution_count": 11,
   "metadata": {
    "collapsed": false
   },
   "outputs": [
    {
     "ename": "NameError",
     "evalue": "global name 'gpd' is not defined",
     "output_type": "error",
     "traceback": [
      "\u001b[0;31m---------------------------------------------------------------------------\u001b[0m",
      "\u001b[0;31mNameError\u001b[0m                                 Traceback (most recent call last)",
      "\u001b[0;32m<ipython-input-11-66137018cff6>\u001b[0m in \u001b[0;36m<module>\u001b[0;34m()\u001b[0m\n\u001b[0;32m----> 1\u001b[0;31m \u001b[0mAAG16_DataPrep\u001b[0m\u001b[0;34m.\u001b[0m\u001b[0mdata_prep\u001b[0m\u001b[0;34m(\u001b[0m\u001b[0;34m)\u001b[0m\u001b[0;34m\u001b[0m\u001b[0m\n\u001b[0m",
      "\u001b[0;32m/Users/jgaboardi/Desktop/spanoptpy/AAG16_DataPrep.py\u001b[0m in \u001b[0;36mdata_prep\u001b[0;34m()\u001b[0m\n\u001b[1;32m      5\u001b[0m \u001b[0;34m\u001b[0m\u001b[0m\n\u001b[1;32m      6\u001b[0m     \u001b[0;31m# Reproject the street network with `GeoPandas` --> Waverly  Hills\u001b[0m\u001b[0;34m\u001b[0m\u001b[0;34m\u001b[0m\u001b[0m\n\u001b[0;32m----> 7\u001b[0;31m     \u001b[0mSTREETS_Orig\u001b[0m \u001b[0;34m=\u001b[0m \u001b[0mgpd\u001b[0m\u001b[0;34m.\u001b[0m\u001b[0mread_file\u001b[0m\u001b[0;34m(\u001b[0m\u001b[0mpath\u001b[0m\u001b[0;34m+\u001b[0m\u001b[0;34m'Waverly_Trim/Waverly.shp'\u001b[0m\u001b[0;34m)\u001b[0m\u001b[0;34m\u001b[0m\u001b[0m\n\u001b[0m\u001b[1;32m      8\u001b[0m     \u001b[0mSTREETS\u001b[0m \u001b[0;34m=\u001b[0m \u001b[0mgpd\u001b[0m\u001b[0;34m.\u001b[0m\u001b[0mread_file\u001b[0m\u001b[0;34m(\u001b[0m\u001b[0mpath\u001b[0m\u001b[0;34m+\u001b[0m\u001b[0;34m'Waverly_Trim/Waverly.shp'\u001b[0m\u001b[0;34m)\u001b[0m\u001b[0;34m\u001b[0m\u001b[0m\n\u001b[1;32m      9\u001b[0m     \u001b[0mSTREETS\u001b[0m\u001b[0;34m.\u001b[0m\u001b[0mto_crs\u001b[0m\u001b[0;34m(\u001b[0m\u001b[0mepsg\u001b[0m\u001b[0;34m=\u001b[0m\u001b[0;36m2779\u001b[0m\u001b[0;34m,\u001b[0m \u001b[0minplace\u001b[0m\u001b[0;34m=\u001b[0m\u001b[0mTrue\u001b[0m\u001b[0;34m)\u001b[0m \u001b[0;31m# NAD83(HARN) / Florida North\u001b[0m\u001b[0;34m\u001b[0m\u001b[0m\n",
      "\u001b[0;31mNameError\u001b[0m: global name 'gpd' is not defined"
     ]
    }
   ],
   "source": [
    "AAG16_DataPrep.data_prep()"
   ]
  },
  {
   "cell_type": "markdown",
   "metadata": {},
   "source": [
    "# What we have at this point"
   ]
  },
  {
   "cell_type": "code",
   "execution_count": null,
   "metadata": {
    "collapsed": false,
    "slideshow": {
     "slide_type": "-"
    }
   },
   "outputs": [],
   "source": [
    "Buff.plot()\n",
    "STREETS.plot()\n",
    "CLIENT.plot()\n",
    "SERVICE.plot(colormap=True)"
   ]
  },
  {
   "cell_type": "markdown",
   "metadata": {},
   "source": [
    "### Call Client to Service Matrix Function"
   ]
  },
  {
   "cell_type": "code",
   "execution_count": null,
   "metadata": {
    "collapsed": true
   },
   "outputs": [],
   "source": [
    "# Call Client to Service Matrix Function\n",
    "c_s_matrix() "
   ]
  },
  {
   "cell_type": "markdown",
   "metadata": {},
   "source": [
    "---"
   ]
  },
  {
   "cell_type": "markdown",
   "metadata": {},
   "source": [
    "# Solutions"
   ]
  },
  {
   "cell_type": "markdown",
   "metadata": {},
   "source": [
    "### Solve all"
   ]
  },
  {
   "cell_type": "code",
   "execution_count": null,
   "metadata": {
    "collapsed": false
   },
   "outputs": [],
   "source": [
    "Gurobi_PMCP(len(SER), Ai, AiSum, All_Dist_MILES)"
   ]
  },
  {
   "cell_type": "markdown",
   "metadata": {},
   "source": [
    "---"
   ]
  },
  {
   "cell_type": "markdown",
   "metadata": {
    "collapsed": true
   },
   "source": [
    "# Visualizations"
   ]
  },
  {
   "cell_type": "markdown",
   "metadata": {},
   "source": [
    "### Draw PMP figure [*p*=1] large $ \\rightarrow $ small [*p*=15]"
   ]
  },
  {
   "cell_type": "code",
   "execution_count": null,
   "metadata": {
    "collapsed": false
   },
   "outputs": [],
   "source": [
    "# Draw Network Actual Roads and Nodes\n",
    "for e in ntw.edges:\n",
    "    g.add_edge(*e)\n",
    "nx.draw(g, ntw.node_coords, node_size=5, alpha=0.25, edge_color='r', width=2)\n",
    "\n",
    "#PMP\n",
    "size = 3000\n",
    "for i,j in P_Med_Graphs.iteritems():\n",
    "    size=size-120\n",
    "    # p-Median\n",
    "    P_Med = ps.open(path+'Results/Selected_Locations_Pmedian'+str(i)+'.shp')\n",
    "    points_median = {}\n",
    "    for idx, coords in enumerate(P_Med):\n",
    "        P_Med_Graphs[i].add_node(idx)\n",
    "        points_median[idx] = coords\n",
    "        P_Med_Graphs[i].node[idx] = coords\n",
    "    nx.draw(P_Med_Graphs[i], \n",
    "                points_median, \n",
    "                node_size=size, \n",
    "                alpha=.1, \n",
    "                node_color='k')\n",
    "\n",
    "# Legend (Ordered Dictionary)\n",
    "LEGEND = OrderedDict()\n",
    "LEGEND['Network Nodes']=g\n",
    "LEGEND['Roads']=g\n",
    "for i in P_Med_Graphs:\n",
    "    LEGEND['Optimal PMP '+str(i)]=P_Med_Graphs[i]\n",
    "plt.legend(LEGEND, \n",
    "       loc='upper left', \n",
    "       fancybox=True, \n",
    "       framealpha=0.5, \n",
    "       scatterpoints=1)\n",
    "\n",
    "# Title\n",
    "plt.title('Waverly Hills\\n Tallahassee, Florida', family='Times New Roman', \n",
    "      size=40, color='k', backgroundcolor='w', weight='bold')\n",
    "\n",
    "# North Arrow and 'N' --> Must be changed for different spatial resolutions, etc.\n",
    "plt.arrow(624000, 164050, 0.0, 500, width=50, head_width=125, \n",
    "          head_length=75, fc='k', ec='k',alpha=0.75,)\n",
    "plt.annotate('N', xy=(623900, 164700), fontstyle='italic', fontsize='xx-large',\n",
    "            fontweight='heavy', alpha=0.75)"
   ]
  },
  {
   "cell_type": "markdown",
   "metadata": {},
   "source": [
    "### Pandas PMP Data Frame"
   ]
  },
  {
   "cell_type": "code",
   "execution_count": null,
   "metadata": {
    "collapsed": false,
    "slideshow": {
     "slide_type": "-"
    }
   },
   "outputs": [],
   "source": [
    "qgrid.show_grid(pydf_M, show_toolbar=True)"
   ]
  },
  {
   "cell_type": "markdown",
   "metadata": {},
   "source": [
    "### Bokeh PMP [*p* vs. cost] trade off"
   ]
  },
  {
   "cell_type": "code",
   "execution_count": null,
   "metadata": {
    "collapsed": false
   },
   "outputs": [],
   "source": [
    "source_m = ColumnDataSource(\n",
    "        data=dict(\n",
    "            x=range(1, len(SER)+1),\n",
    "            y=AVG_PMP,\n",
    "            avg=AVG_PMP,\n",
    "            desc=p_list,\n",
    "            change=PMP_Avg_Diff))\n",
    "\n",
    "TOOLS = 'wheel_zoom, pan, reset, crosshair, save'\n",
    "\n",
    "hover = HoverTool(line_policy=\"nearest\", mode=\"hline\", tooltips=\"\"\"\n",
    "        <div>\n",
    "            <div>\n",
    "                \n",
    "            </div>\n",
    "            <div>\n",
    "                <span style=\"font-size: 17px; font-weight: bold;\">@desc</span> \n",
    "            </div>\n",
    "            <div>\n",
    "                <span style=\"font-size: 15px;\">Average Minimized Cost</span>\n",
    "                <span style=\"font-size: 15px; font-weight: bold; color: #ff4d4d;\">[@avg]</span>\n",
    "            </div>\n",
    "            <div>\n",
    "                <span style=\"font-size: 15px;\">Variation</span>\n",
    "                <span style=\"font-size: 15px; font-weight: bold; color: #ff4d4d;\">[@change]</span>\n",
    "            </div>\n",
    "        </div>\"\"\")\n",
    "\n",
    "# Instantiate Plot\n",
    "pmp_plot = figure(plot_width=600, plot_height=600, tools=[TOOLS,hover],\n",
    "           title=\"Average Distance vs. p-Facilities\", y_range=(0,2))\n",
    "\n",
    "# Create plot points and set source\n",
    "pmp_plot.circle('x', 'y', size=15, color='red',source=source_m, \n",
    "                legend='Total Minimized Cost / Total Demand')\n",
    "pmp_plot.line('x', 'y', line_width=2, color='red', alpha=.5, source=source_m, \n",
    "              legend='Total Minimized Cost / Total Demand')\n",
    "\n",
    "pmp_plot.xaxis.axis_label = '[p = n]'\n",
    "pmp_plot.yaxis.axis_label = 'Miles'\n",
    "\n",
    "one_quarter = BoxAnnotation(plot=pmp_plot, top=.35, \n",
    "                            fill_alpha=0.1, fill_color='green')\n",
    "half = BoxAnnotation(plot=pmp_plot, bottom=.35, top=.7, \n",
    "                            fill_alpha=0.1, fill_color='blue')\n",
    "three_quarter = BoxAnnotation(plot=pmp_plot, bottom=.7, top=1.05,\n",
    "                            fill_alpha=0.1, fill_color='gray')\n",
    "\n",
    "pmp_plot.renderers.extend([one_quarter, half, three_quarter])\n",
    "\n",
    "# Display the figure\n",
    "show(pmp_plot)"
   ]
  },
  {
   "cell_type": "markdown",
   "metadata": {},
   "source": [
    "### Draw PCP figure [*p*=1] large $ \\rightarrow $ small [*p*=15]"
   ]
  },
  {
   "cell_type": "code",
   "execution_count": null,
   "metadata": {
    "collapsed": false
   },
   "outputs": [],
   "source": [
    "# Draw Network Actual Roads and Nodes\n",
    "for e in ntw.edges:\n",
    "    g.add_edge(*e)\n",
    "nx.draw(g, ntw.node_coords, node_size=5, alpha=0.25, edge_color='r', width=2)\n",
    "\n",
    "#PCP\n",
    "size = 3000\n",
    "for i,j in P_Cent_Graphs.iteritems():\n",
    "    size=size-150\n",
    "    # p-Center\n",
    "    P_Cent = ps.open(path+'Results/Selected_Locations_Pcenter'+str(i)+'.shp')\n",
    "    points_center = {}\n",
    "    for idx, coords in enumerate(P_Cent):\n",
    "        P_Cent_Graphs[i].add_node(idx)\n",
    "        points_center[idx] = coords\n",
    "        P_Cent_Graphs[i].node[idx] = coords\n",
    "    nx.draw(P_Cent_Graphs[i], \n",
    "                points_center, \n",
    "                node_size=size, \n",
    "                alpha=.1, \n",
    "                node_color='k')\n",
    "\n",
    "# Legend (Ordered Dictionary)\n",
    "LEGEND = OrderedDict()\n",
    "LEGEND['Network Nodes']=g\n",
    "LEGEND['Roads']=g\n",
    "for i in P_Cent_Graphs:\n",
    "    LEGEND['Optimal PCP '+str(i)]=P_Cent_Graphs[i]\n",
    "plt.legend(LEGEND, \n",
    "       loc='upper left', \n",
    "       fancybox=True, \n",
    "       framealpha=0.5, \n",
    "       scatterpoints=1)\n",
    "\n",
    "# Title\n",
    "plt.title('Waverly Hills\\n Tallahassee, Florida', family='Times New Roman', \n",
    "      size=40, color='k', backgroundcolor='w', weight='bold')\n",
    "\n",
    "# North Arrow and 'N' --> Must be changed for different spatial resolutions, etc.\n",
    "plt.arrow(624000, 164050, 0.0, 500, width=50, head_width=125, \n",
    "          head_length=75, fc='k', ec='k',alpha=0.75,)\n",
    "plt.annotate('N', xy=(623900, 164700), fontstyle='italic', fontsize='xx-large',\n",
    "            fontweight='heavy', alpha=0.75)"
   ]
  },
  {
   "cell_type": "markdown",
   "metadata": {},
   "source": [
    "### Pandas PCP Data Frame"
   ]
  },
  {
   "cell_type": "code",
   "execution_count": null,
   "metadata": {
    "collapsed": true
   },
   "outputs": [],
   "source": [
    "qgrid.show_grid(pydf_C, show_toolbar=True)"
   ]
  },
  {
   "cell_type": "markdown",
   "metadata": {},
   "source": [
    "### Bokeh PCP [*p* vs. cost] trade off"
   ]
  },
  {
   "cell_type": "code",
   "execution_count": null,
   "metadata": {
    "collapsed": false
   },
   "outputs": [],
   "source": [
    "source_c = ColumnDataSource(\n",
    "        data=dict(\n",
    "            x=range(1, len(SER)+1),\n",
    "            y=VAL_PCP,\n",
    "            obj=VAL_PCP,\n",
    "            desc=p_list,\n",
    "            change=PCP_Diff))\n",
    "    \n",
    "TOOLS = 'wheel_zoom, pan, reset, crosshair, save'\n",
    "    \n",
    "hover = HoverTool(line_policy=\"nearest\", mode=\"vline\", tooltips=\"\"\"\n",
    "        <div>\n",
    "            <div>\n",
    "                \n",
    "            </div>\n",
    "            <div>\n",
    "                <span style=\"font-size: 17px; font-weight: bold;\">@desc</span> \n",
    "            </div>\n",
    "            <div>\n",
    "                <span style=\"font-size: 15px;\">Worst Case Cost</span>\n",
    "                <span style=\"font-size: 15px; font-weight: bold; color: #00b300;\">[@obj]</span>\n",
    "            </div>\n",
    "            <div>\n",
    "                <span style=\"font-size: 15px;\">Variation</span>\n",
    "                <span style=\"font-size: 15px; font-weight: bold; color: #00b300;\">[@change]</span>\n",
    "            </div>\n",
    "        </div>\"\"\")\n",
    "\n",
    "# Instantiate Plot\n",
    "pcp_plot = figure(plot_width=600, plot_height=600, tools=[TOOLS,hover],\n",
    "           title=\"Worst Case Distance vs. p-Facilities\", y_range=(0,2))\n",
    "\n",
    "# Create plot points and set source\n",
    "pcp_plot.circle('x', 'y', size=15, color='green', source=source_c,\n",
    "                   legend='Minimized Worst Case')\n",
    "pcp_plot.line('x', 'y', line_width=2, color='green', alpha=.5, source=source_c,\n",
    "                   legend='Minimized Worst Case')\n",
    "\n",
    "pcp_plot.xaxis.axis_label = '[p = n]'\n",
    "pcp_plot.yaxis.axis_label = 'Miles'\n",
    "\n",
    "one_quarter = BoxAnnotation(plot=pcp_plot, top=.35, \n",
    "                            fill_alpha=0.1, fill_color='green')\n",
    "half = BoxAnnotation(plot=pcp_plot, bottom=.35, top=.7, \n",
    "                            fill_alpha=0.1, fill_color='blue')\n",
    "three_quarter = BoxAnnotation(plot=pcp_plot, bottom=.7, top=1.05,\n",
    "                            fill_alpha=0.1, fill_color='gray')\n",
    "\n",
    "pcp_plot.renderers.extend([one_quarter, half, three_quarter])\n",
    "\n",
    "# Display the figure\n",
    "show(pcp_plot)"
   ]
  },
  {
   "cell_type": "markdown",
   "metadata": {},
   "source": [
    "---"
   ]
  },
  {
   "cell_type": "markdown",
   "metadata": {},
   "source": [
    "### Draw CentDian figure [*p*=1] large $ \\rightarrow $ small [*p*=15]"
   ]
  },
  {
   "cell_type": "code",
   "execution_count": null,
   "metadata": {
    "collapsed": false
   },
   "outputs": [],
   "source": [
    "# Draw Network Actual Roads and Nodes\n",
    "for e in ntw.edges:\n",
    "    g.add_edge(*e)\n",
    "nx.draw(g, ntw.node_coords, node_size=5, alpha=0.25, edge_color='r', width=2)\n",
    "\n",
    "#CentDian\n",
    "size = 3000\n",
    "for i,j in P_CentDian_Graphs.iteritems():\n",
    "    size=size-150\n",
    "    P_CentDian = ps.open(path+'Results/Selected_Locations_CentDian'+str(i)+'.shp')\n",
    "    points_centdian = {}\n",
    "    for idx, coords in enumerate(P_CentDian):\n",
    "        P_CentDian_Graphs[i].add_node(idx)\n",
    "        points_centdian[idx] = coords\n",
    "        P_CentDian_Graphs[i].node[idx] = coords\n",
    "    nx.draw(P_CentDian_Graphs[i], \n",
    "                points_centdian, \n",
    "                node_size=size, \n",
    "                alpha=.1, \n",
    "                node_color='k')\n",
    "\n",
    "# Legend (Ordered Dictionary)\n",
    "LEGEND = OrderedDict()\n",
    "LEGEND['Network Nodes']=g\n",
    "LEGEND['Roads']=g\n",
    "for i in P_CentDian_Graphs:\n",
    "    LEGEND['Optimal CentDian '+str(i)]=P_CentDian_Graphs[i]\n",
    "plt.legend(LEGEND, \n",
    "       loc='upper left', \n",
    "       fancybox=True, \n",
    "       framealpha=0.5, \n",
    "       scatterpoints=1)\n",
    "\n",
    "# Title\n",
    "plt.title('Waverly Hills\\n Tallahassee, Florida', family='Times New Roman', \n",
    "      size=40, color='k', backgroundcolor='w', weight='bold')\n",
    "\n",
    "# North Arrow and 'N' --> Must be changed for different spatial resolutions, etc.\n",
    "plt.arrow(624000, 164050, 0.0, 500, width=50, head_width=125, \n",
    "          head_length=75, fc='k', ec='k',alpha=0.75,)\n",
    "plt.annotate('N', xy=(623900, 164700), fontstyle='italic', fontsize='xx-large',\n",
    "            fontweight='heavy', alpha=0.75)"
   ]
  },
  {
   "cell_type": "markdown",
   "metadata": {},
   "source": [
    "### Pandas CentDian Data Frame"
   ]
  },
  {
   "cell_type": "code",
   "execution_count": null,
   "metadata": {
    "collapsed": false
   },
   "outputs": [],
   "source": [
    "qgrid.show_grid(pydf_CentDian, show_toolbar=True)"
   ]
  },
  {
   "cell_type": "markdown",
   "metadata": {},
   "source": [
    "### Bokeh CentDian [*p* vs. cost] trade off"
   ]
  },
  {
   "cell_type": "code",
   "execution_count": null,
   "metadata": {
    "collapsed": false
   },
   "outputs": [],
   "source": [
    "source_centdian = ColumnDataSource(\n",
    "        data=dict(\n",
    "            x=range(1, len(SER)+1),\n",
    "            y=VAL_CentDian,\n",
    "            obj=VAL_CentDian,\n",
    "            desc=p_list,\n",
    "            change=CentDian_Diff))\n",
    "    \n",
    "TOOLS = 'wheel_zoom, pan, reset, crosshair, save'\n",
    "    \n",
    "hover = HoverTool(line_policy=\"nearest\", mode=\"vline\" ,tooltips=\"\"\"\n",
    "        <div>\n",
    "            <div>\n",
    "                \n",
    "            </div>\n",
    "            <div>\n",
    "                <span style=\"font-size: 17px; font-weight: bold;\">@desc</span> \n",
    "            </div>\n",
    "            <div>\n",
    "                <span style=\"font-size: 15px;\">Center Median Cost</span>\n",
    "                <span style=\"font-size: 15px; font-weight: bold; color: #3385ff;\">[@obj]</span>\n",
    "            </div>\n",
    "            <div>\n",
    "                <span style=\"font-size: 15px;\">Variation</span>\n",
    "                <span style=\"font-size: 15px; font-weight: bold; color: #3385ff;\">[@change]</span>\n",
    "            </div>\n",
    "        </div>\"\"\")\n",
    "\n",
    "# Instantiate Plot\n",
    "centdian_plot = figure(plot_width=600, plot_height=600, tools=[TOOLS,hover],\n",
    "           title=\"Center Median Distance vs. p-Facilities\", y_range=(0,2))\n",
    "\n",
    "# Create plot points and set source\n",
    "centdian_plot.circle('x', 'y', size=15, color='blue', source=source_centdian,\n",
    "                   legend='Center Median')\n",
    "centdian_plot.line('x', 'y', line_width=2, color='blue', alpha=.5, source=source_centdian,\n",
    "                   legend='Center Median')\n",
    "\n",
    "centdian_plot.xaxis.axis_label = '[p = n]'\n",
    "centdian_plot.yaxis.axis_label = 'Miles'\n",
    "\n",
    "one_quarter = BoxAnnotation(plot=pcp_plot, top=.35, \n",
    "                            fill_alpha=0.1, fill_color='green')\n",
    "half = BoxAnnotation(plot=pcp_plot, bottom=.35, top=.7, \n",
    "                            fill_alpha=0.1, fill_color='blue')\n",
    "three_quarter = BoxAnnotation(plot=pcp_plot, bottom=.7, top=1.05,\n",
    "                            fill_alpha=0.1, fill_color='gray')\n",
    "\n",
    "centdian_plot.renderers.extend([one_quarter, half, three_quarter])\n",
    "\n",
    "# Display the figure\n",
    "show(centdian_plot)"
   ]
  },
  {
   "cell_type": "markdown",
   "metadata": {},
   "source": [
    "----"
   ]
  },
  {
   "cell_type": "markdown",
   "metadata": {},
   "source": [
    "### Draw PMCP figure"
   ]
  },
  {
   "cell_type": "code",
   "execution_count": null,
   "metadata": {
    "collapsed": false
   },
   "outputs": [],
   "source": [
    "# Draw Network Actual Roads and Nodes\n",
    "for e in ntw.edges:\n",
    "    g.add_edge(*e)\n",
    "nx.draw(g, ntw.node_coords, node_size=5, alpha=0.25, edge_color='r', width=2)\n",
    "\n",
    "size = 500\n",
    "shape = 'sdh^Vp<8>'\n",
    "counter = -1\n",
    "for i,j in PMCP_Graphs.iteritems():\n",
    "    if int(i) <= len(SER)-1:\n",
    "        counter = counter+1\n",
    "        pmcp = ps.open(path+'Results/Selected_Locations_PMCP'+str(i)+'.shp')\n",
    "        points_pmcp = {}\n",
    "        for idx, coords in enumerate(pmcp):\n",
    "            PMCP_Graphs[i].add_node(idx)\n",
    "            points_pmcp[idx] = coords\n",
    "            PMCP_Graphs[i].node[idx] = coords\n",
    "        nx.draw(PMCP_Graphs[i], \n",
    "                    points_pmcp, \n",
    "                    node_size=size,\n",
    "                    node_shape=shape[counter],\n",
    "                    alpha=.5, \n",
    "                    node_color='k')\n",
    "    else:\n",
    "        pass\n",
    "    \n",
    "# Legend (Ordered Dictionary)\n",
    "LEGEND = OrderedDict()\n",
    "LEGEND['Network Nodes']=g\n",
    "LEGEND['Roads']=g\n",
    "for i in PMCP_Graphs:\n",
    "    if int(i) <= len(SER)-1:\n",
    "        LEGEND['PMP/PCP == '+str(i)]=PMCP_Graphs[i]\n",
    "plt.legend(LEGEND, \n",
    "       loc='upper left', \n",
    "       fancybox=True, \n",
    "       framealpha=0.5, \n",
    "       scatterpoints=1)\n",
    "\n",
    "# Title\n",
    "plt.title('Waverly Hills\\n Tallahassee, Florida', family='Times New Roman', \n",
    "      size=40, color='k', backgroundcolor='w', weight='bold')\n",
    "\n",
    "# North Arrow and 'N' --> Must be changed for different spatial resolutions, etc.\n",
    "plt.arrow(624000, 164050, 0.0, 500, width=50, head_width=125, \n",
    "          head_length=75, fc='k', ec='k',alpha=0.75,)\n",
    "plt.annotate('N', xy=(623900, 164700), fontstyle='italic', fontsize='xx-large',\n",
    "            fontweight='heavy', alpha=0.75)"
   ]
  },
  {
   "cell_type": "markdown",
   "metadata": {},
   "source": [
    "### Pandas PMCP Data Frame"
   ]
  },
  {
   "cell_type": "code",
   "execution_count": null,
   "metadata": {
    "collapsed": false
   },
   "outputs": [],
   "source": [
    "qgrid.show_grid(pydf_MC, show_toolbar=True)"
   ]
  },
  {
   "cell_type": "markdown",
   "metadata": {},
   "source": [
    "### Bokeh PMP & PCP [*p* vs. cost] comparision"
   ]
  },
  {
   "cell_type": "code",
   "execution_count": null,
   "metadata": {
    "collapsed": false
   },
   "outputs": [],
   "source": [
    "TOOLS = 'wheel_zoom, pan, reset, crosshair, save, hover'\n",
    "\n",
    "bokeh_df_PMCP = pd.DataFrame()\n",
    "bokeh_df_PMCP['p'] = [int(i[2:]) for i in p_dens]\n",
    "bokeh_df_PMCP['Total Obj. Value'] = [VAL_PMCP[x][0] for x in range(len(VAL_PMCP))]\n",
    "bokeh_df_PMCP['Avg. Obj. Value'] = [VAL_PMCP[x][1] for x in range(len(VAL_PMCP))]\n",
    "bokeh_df_PMCP['Worst Case Obj. Value'] = [VAL_PMCP[x][2] for x in range(len(VAL_PMCP))]\n",
    "bokeh_df_PMCP['CentDian Obj. Value'] = [VAL_PMCP[x][3] for x in range(len(VAL_PMCP))]\n",
    "\n",
    "plot_PMCP = figure(title=\"Optimal PMP & PCP Selections without Sacrifice\", \n",
    "                        plot_width=800, plot_height=600, tools=[TOOLS], y_range=(0,2))\n",
    "\n",
    "plot_PMCP.circle('x', 'y', size=5, color='red', source=source_m, legend='PMP')\n",
    "plot_PMCP.line('x', 'y', \n",
    "                 color=\"#ff4d4d\", alpha=0.2, line_width=2, source=source_m, legend='PMP')\n",
    "\n",
    "plot_PMCP.circle('x', 'y', size=5, color='green', source=source_c, legend='PCP')\n",
    "plot_PMCP.line('x', 'y', \n",
    "                 color='#00b300', alpha=0.2, line_width=2, source=source_c, legend='PCP')\n",
    "\n",
    "plot_PMCP.circle('x', 'y', size=5, color='blue', source=source_centdian, legend='CentDian')\n",
    "plot_PMCP.line('x', 'y', \n",
    "                 color='#3385ff', alpha=0.2, line_width=2, source=source_centdian, legend='CentDian')\n",
    "\n",
    "plot_PMCP.circle_x(bokeh_df_PMCP['p'], \n",
    "                 bokeh_df_PMCP['Avg. Obj. Value'], \n",
    "                 legend=\"Location PMP=PCP for PM+CP\", \n",
    "                 color=\"#ff4d4d\",\n",
    "                 fill_alpha=0.2,\n",
    "                 size=15)\n",
    "\n",
    "plot_PMCP.circle_x(bokeh_df_PMCP['p'], \n",
    "             bokeh_df_PMCP['Worst Case Obj. Value'], \n",
    "             legend=\"Location PCP=PMP for PM+CP\", \n",
    "             color='#00b300',\n",
    "             fill_alpha=0.2,\n",
    "             size=15)\n",
    "\n",
    "plot_PMCP.circle_x(bokeh_df_PMCP['p'], \n",
    "             bokeh_df_PMCP['CentDian Obj. Value'], \n",
    "             legend=\"Location CentDian = PMCP\", \n",
    "             color='#3385ff',\n",
    "             fill_alpha=0.2,\n",
    "             size=15)\n",
    "\n",
    "plot_PMCP.xaxis.axis_label = '[p = n]'\n",
    "plot_PMCP.yaxis.axis_label = 'Miles'\n",
    "\n",
    "one_quarter = BoxAnnotation(plot=plot_PMCP, top=.35, \n",
    "                            fill_alpha=0.1, fill_color='green')\n",
    "half = BoxAnnotation(plot=plot_PMCP, bottom=.35, top=.7, \n",
    "                            fill_alpha=0.1, fill_color='blue')\n",
    "three_quarter = BoxAnnotation(plot=plot_PMCP, bottom=.7, top=1.05,\n",
    "                            fill_alpha=0.1, fill_color='gray')\n",
    "\n",
    "plot_PMCP.renderers.extend([one_quarter, half, three_quarter])\n",
    "\n",
    "show(plot_PMCP)"
   ]
  },
  {
   "cell_type": "markdown",
   "metadata": {},
   "source": [
    "### Convert Service Facilities Back to Longitude/Latitude for Google Maps Plots"
   ]
  },
  {
   "cell_type": "code",
   "execution_count": null,
   "metadata": {
    "collapsed": true
   },
   "outputs": [],
   "source": [
    "points = SERVICE\n",
    "points.to_crs(epsg=32616, inplace=True) # UTM 16N\n",
    "LonLat_Dict = OrderedDict()\n",
    "LonLat_List = []\n",
    "\n",
    "for i,j in points['geometry'].iteritems():\n",
    "    LonLat_Dict[y_list[i]] = utm.to_latlon(j.xy[0][-1], j.xy[1][-1], 16, 'N')  \n",
    "    LonLat_List.append((utm.to_latlon(j.xy[0][-1], j.xy[1][-1], 16, 'N')))\n",
    "\n",
    "Service_Lat_List = []\n",
    "Service_Lon_List = []\n",
    "    \n",
    "for i in LonLat_List:\n",
    "    Service_Lat_List.append(i[0])\n",
    "for i in LonLat_List:\n",
    "    Service_Lon_List.append(i[1])"
   ]
  },
  {
   "cell_type": "markdown",
   "metadata": {},
   "source": [
    "### Create Lists of Selected Locations for Google Maps Plot"
   ]
  },
  {
   "cell_type": "code",
   "execution_count": null,
   "metadata": {
    "collapsed": true
   },
   "outputs": [],
   "source": [
    "# p-Median Selected Sites\n",
    "list_of_p_MEDIAN = []\n",
    "for y in range(len(y_list)):\n",
    "    list_of_p_MEDIAN.append([])\n",
    "    for p in range(len(p_list)):\n",
    "        if pydf_M[y_list[y]][p_list[p]] == u'\\u2588':\n",
    "            list_of_p_MEDIAN[y].append([p_list[p]])\n",
    "            \n",
    "# p-Center Selected Sites\n",
    "list_of_p_CENTER = []\n",
    "for y in range(len(y_list)):\n",
    "    list_of_p_CENTER.append([])\n",
    "    for p in range(len(p_list)):\n",
    "        if pydf_C[y_list[y]][p_list[p]] == u'\\u2588':\n",
    "            list_of_p_CENTER[y].append([p_list[p]])\n",
    "            \n",
    "# p-CentDian Selected Sites\n",
    "list_of_p_CentDian = []\n",
    "for y in range(len(y_list)):\n",
    "    list_of_p_CentDian.append([])\n",
    "    for p in range(len(p_list)):\n",
    "        if pydf_CentDian[y_list[y]][p_list[p]] == u'\\u2588':\n",
    "            list_of_p_CentDian[y].append([p_list[p]])\n",
    "\n",
    "# PMCP Selected Sites\n",
    "list_of_PMCP = []\n",
    "for y in range(len(y_list)):\n",
    "    list_of_PMCP.append([])\n",
    "    for p in p_dens:\n",
    "        if pydf_MC[y_list[y]][p] == u'\\u2588':\n",
    "            list_of_PMCP[y].append(p)"
   ]
  },
  {
   "cell_type": "markdown",
   "metadata": {},
   "source": [
    "### Google Maps Plot"
   ]
  },
  {
   "cell_type": "code",
   "execution_count": null,
   "metadata": {
    "collapsed": false
   },
   "outputs": [],
   "source": [
    "map_options = GMapOptions(lat=30.4855, lng=-84.265, map_type=\"hybrid\", zoom=14)\n",
    "\n",
    "plot = GMapPlot(\n",
    "    x_range=DataRange1d(), y_range=DataRange1d(), map_options=map_options, title=\"Waverly Hills\")\n",
    "\n",
    "hover = HoverTool(tooltips=\"\"\"\n",
    "        <div>\n",
    "            <div>\n",
    "                \n",
    "            </div>\n",
    "            <div>\n",
    "                <span style=\"font-size: 30px; font-weight: bold;\">Site @desc</span> \n",
    "            </div>\n",
    "            <div>\n",
    "                <span> \\b </span>\n",
    "            </div>\n",
    "            <div>\n",
    "                <span style=\"font-size: 17px; font-weight: bold;\">p-Median: </span> \n",
    "            </div>\n",
    "                <div>\n",
    "                <span style=\"font-size: 15px; font-weight: bold; color: #ff4d4d;\">@p_select_median</span>\n",
    "            </div>\n",
    "            <div>\n",
    "                <span> \\b </span>\n",
    "            </div>\n",
    "            <div>\n",
    "                <span style=\"font-size: 17px; font-weight: bold;\">p-Center</span> \n",
    "            \n",
    "            <div>\n",
    "                <span style=\"font-size: 14px; font-weight: bold; color: #00b300;\">@p_select_center</span>\n",
    "            </div>\n",
    "            <div>\n",
    "                <span> \\b </span>\n",
    "            </div>\n",
    "            <div>\n",
    "                <span style=\"font-size: 17px; font-weight: bold;\">p-CentDian</span> \n",
    "            </div>\n",
    "            <div>\n",
    "                <span style=\"font-size: 14px; font-weight: bold; color: #3385ff;\">@p_select_centdian</span>\n",
    "            </div>\n",
    "            <div>\n",
    "                <span> \\b </span>\n",
    "            </div>\n",
    "            <span style=\"font-size: 17px; font-weight: bold;\">PMCP Method</span> \n",
    "            </div>\n",
    "            <div>\n",
    "                <span style=\"font-size: 14px; font-weight: bold; color: 'gray';\">@p_select_pmcp</span>\n",
    "            </div>\n",
    "        </div>\"\"\")\n",
    "\n",
    "source_1 = ColumnDataSource(\n",
    "        data=dict(\n",
    "        lat=Service_Lat_List,\n",
    "        lon=Service_Lon_List,\n",
    "        desc=y_list,\n",
    "        p_select_center=list_of_p_CENTER,\n",
    "        p_select_median=list_of_p_MEDIAN,\n",
    "        p_select_centdian= list_of_p_CentDian,\n",
    "        p_select_pmcp=list_of_PMCP))\n",
    "\n",
    "#source_2 = ColumnDataSource(\n",
    "#    data=dict(\n",
    "#        xs=line1x,\n",
    "#        ys=line1y))\n",
    "\n",
    "facilties = Circle(x=\"lon\", y=\"lat\", size=10, fill_color=\"yellow\", fill_alpha=0.6, line_color=None)\n",
    "\n",
    "#streets = MultiLine(xs=\"xs\", ys=\"ys\", line_width=20, line_color='red')\n",
    "#plot.title = \"Waverly\"\n",
    "\n",
    "plot.add_glyph(source_1, facilties)\n",
    "#plot.add_glyph(source_2, streets)\n",
    "\n",
    "plot.add_tools(PanTool(), WheelZoomTool(), BoxSelectTool(), ResetTool(), hover)\n",
    "output_file(\"gmap_plot.html\")\n",
    "show(plot)"
   ]
  },
  {
   "cell_type": "markdown",
   "metadata": {},
   "source": [
    "-----"
   ]
  },
  {
   "cell_type": "markdown",
   "metadata": {},
   "source": [
    "# Future Work & Vision"
   ]
  },
  {
   "cell_type": "markdown",
   "metadata": {},
   "source": [
    "### $\\Longrightarrow$ Provide more accessible alternatives to spatial optimization & GIS\n",
    "\n",
    "### $\\Longrightarrow$ Develop a `python` library to bring together spatial analysis & spatial optimization in one package [*`spanoptpy`*], potentially incorporating:\n",
    "\n",
    "\n",
    "\n",
    "|QGIS|  PySAL  |  NetworkX  |  Pandas & QGrid |  GeoPandas  |  NumPy / SciPy  |  Shapely  |  Bokeh | CyLP | PostgreSQL & PostGIS\n",
    "|----|---------|-------------------------------------------------------------------------\n",
    "|GIS|network analysis|network analysis|data frames|geo dataframes|scientific computing|geometric objects|visualizations|optimization | DBMS"
   ]
  },
  {
   "cell_type": "markdown",
   "metadata": {},
   "source": [
    "### $\\Longrightarrow$ Need `PySAL.Network` to be able to handle larger networks\n",
    "### $\\Longrightarrow$ Intergration with `PostgreSQL` & `PostGIS` for data storage\n",
    "### $\\Longrightarrow$ Develop functionality within a `Linux` environment\n",
    "### $\\Longrightarrow$  `scipy.spatial.cKDTree(dist_matrix)`\n",
    "### &nbsp;&nbsp;&nbsp;&nbsp;&nbsp;&nbsp;&nbsp;&nbsp;&nbsp;&nbsp;&nbsp;&nbsp;&nbsp;&nbsp;&nbsp;&nbsp;$\\ast$  `query_ball_point()` for close neighbors of the selected sites\n",
    "### $\\Longrightarrow$ Master `CyLP` from `COIN-OR` or develop an open-source optimization suite\n",
    "- interface with CLP, CBC, CGL\n",
    "- [ http://mpy.github.io/CyLPdoc/ ]\n",
    "- relatively steep learning curve \n",
    "- Computational Optimization Infrastructure for Operations Research\n",
    "- [ http://www.coin-or.org ]"
   ]
  },
  {
   "cell_type": "markdown",
   "metadata": {},
   "source": [
    "### $\\ast$ *CyLP example*"
   ]
  },
  {
   "cell_type": "markdown",
   "metadata": {},
   "source": [
    "**Minimize**\n",
    "\n",
    "&nbsp;&nbsp;&nbsp;&nbsp;&nbsp;&nbsp;&nbsp;&nbsp; $ 3x + 2y $\n",
    "\n",
    "**Subject To**\n",
    "\n",
    "&nbsp;&nbsp;&nbsp;&nbsp;&nbsp;&nbsp;&nbsp;&nbsp; $ x \\geq 3$\n",
    "\n",
    "&nbsp;&nbsp;&nbsp;&nbsp;&nbsp;&nbsp;&nbsp;&nbsp; $ y \\geq 5$\n",
    "\n",
    "&nbsp;&nbsp;&nbsp;&nbsp;&nbsp;&nbsp;&nbsp;&nbsp; $ x - y \\leq 20$"
   ]
  },
  {
   "cell_type": "code",
   "execution_count": null,
   "metadata": {
    "collapsed": false
   },
   "outputs": [],
   "source": [
    "# Gurobi\n",
    "m = gbp.Model()\n",
    "m.setParam('OutputFlag', False) \n",
    "x = m.addVar(vtype=gbp.GRB.CONTINUOUS, name='x')\n",
    "y = m.addVar(vtype=gbp.GRB.CONTINUOUS, name='y')\n",
    "m.update()\n",
    "m.setObjective(3*x + 2*y, gbp.GRB.MINIMIZE)\n",
    "m.addConstr(x >= 3)\n",
    "m.addConstr(y >= 5)\n",
    "m.addConstr(x - y <= 20)\n",
    "m.optimize()\n",
    "#m.write('path_m.lp')\n",
    "print m.objVal\n",
    "print m.getVars()\n",
    "\n",
    "# CyLP\n",
    "s = CyClpSimplex()\n",
    "x = s.addVariable('x', 1)\n",
    "y = s.addVariable('y', 1)\n",
    "s.addConstraint(x >= 3)\n",
    "s.addConstraint(y >= 5)\n",
    "s.addConstraint(x - y <= 20)\n",
    "s.objective = 3 * x + 2 * y\n",
    "s.primal()\n",
    "#s.writeLp('path_s')\n",
    "print s.objectiveValue\n",
    "print s.primalVariableSolution\n",
    "print 'Gurobi & CLP Objective Values match? --> ', m.objVal == s.objectiveValue"
   ]
  },
  {
   "cell_type": "markdown",
   "metadata": {},
   "source": [
    "**COIN warning that will be debugged in the next release**"
   ]
  },
  {
   "cell_type": "markdown",
   "metadata": {},
   "source": [
    "-----"
   ]
  },
  {
   "cell_type": "markdown",
   "metadata": {},
   "source": [
    "### System Specs"
   ]
  },
  {
   "cell_type": "code",
   "execution_count": null,
   "metadata": {
    "collapsed": false
   },
   "outputs": [],
   "source": [
    "import datetime as dt\n",
    "import os\n",
    "import platform\n",
    "import sys\n",
    "import bokeh\n",
    "import cylp\n",
    "\n",
    "names = ['OSX', 'Processor ', 'Machine ', 'Python ','PySAL ','Gurobi ','Pandas ','GeoPandas ',\n",
    "         'Shapely ', 'NumPy ', 'Bokeh ', 'CyLP', 'Date & Time']\n",
    "versions = [platform.mac_ver()[0], platform.processor(), platform.machine(), platform.python_version(),\n",
    "            ps.version, gbp.gurobi.version(), pd.__version__, gpd.__version__, \n",
    "            str(shapely.__version__), np.__version__, \n",
    "            bokeh.__version__, '0.7.1', dt.datetime.now()]\n",
    "specs = pd.DataFrame(index=names, columns=['Version'])\n",
    "specs.columns.name = 'Platform & Software Specs'\n",
    "specs['Version'] = versions\n",
    "specs # Pandas DF of specifications"
   ]
  },
  {
   "cell_type": "markdown",
   "metadata": {},
   "source": [
    "---"
   ]
  },
  {
   "cell_type": "markdown",
   "metadata": {},
   "source": [
    "# Thanks for your time! Please share with your students and local government GIS departments, etc.!"
   ]
  },
  {
   "cell_type": "markdown",
   "metadata": {},
   "source": [
    "---"
   ]
  },
  {
   "cell_type": "markdown",
   "metadata": {},
   "source": [
    "# email $\\Longrightarrow$ jgaboardi@fsu.edu \n",
    "# GitHub $\\Longrightarrow$ https://github.com/jGaboardi/AAG_16"
   ]
  },
  {
   "cell_type": "code",
   "execution_count": null,
   "metadata": {
    "collapsed": false
   },
   "outputs": [],
   "source": [
    "IPd.HTML('https://github.com/jGaboardi')"
   ]
  },
  {
   "cell_type": "markdown",
   "metadata": {
    "collapsed": false
   },
   "source": [
    "----"
   ]
  },
  {
   "cell_type": "markdown",
   "metadata": {},
   "source": [
    "### References"
   ]
  },
  {
   "cell_type": "markdown",
   "metadata": {},
   "source": [
    "- Behnel, S., R. Bradshaw, C. Citro, L. Dalcin, D. S. Seljebotn, and K. Smith. 2011. Cython: The best of both worlds. Computing in Science and Engineering 13 (2):31–39.\n",
    "\n",
    "- Bokeh Development Team. 2014. Bokeh: Python library for interactive visualization.\n",
    "\n",
    "- Church, R. L. 2002. Geographical information systems and location science. Computers and Operations Research 29:541–562.\n",
    "\n",
    "- Church, R. L., and A. T. Murray. 2009. Business Site Selections, Locational Analysis, and GIS. Hoboken, NJ, USA: John Wiley & Sons, Inc.\n",
    "\n",
    "- Conde, E. 2008. A note on the minmax regret centdian location on trees. Operations Research Letters 36 (2):271–275.\n",
    "\n",
    "- Current, J., M. S. Daskin, and D. A. Schilling. 2002. Discrete Network Location Models. In Facility Location Applications and Theory, eds. Z. Drezner and H. W. Hamacher, 81–118. New York: Springer Berlin Heidelberg.\n",
    "\n",
    "- Dan Fylstra, L. Hafer, B. Hart, B. Kristjannson, C. Phillips, T. Ralphs, (Matthew Saltzman, E. Straver, (Jean-Paul Watson, and H. G. Santos. CBC. https://projects.coin-or.org/Cbc.\n",
    "\n",
    "- Daskin, M. 2013. Network and Discrete Location: Models, Algorithms and Applications 2nd ed. Hoboken, NJ, USA: John Wiley & Sons, Inc.\n",
    "\n",
    "- Daskin, M. S. 2008. What You Should Know About Location Modeling. Naval Research Logistics 55 (2):283–294.\n",
    "\n",
    "- GeoPandas Developers. 2013. GeoPandas. http://geopandas.org.\n",
    "\n",
    "- Gillies, S., A. Bierbaum, and K. Lautaportti. 2013. Shapely.\n",
    "\n",
    "- Gurobi. 2013. Gurobi optimizer quick start guide.\n",
    "\n",
    "- Hagberg, A. A., D. A. Schult, and P. J. Swart. 2008. Exploring network structure, dynamics, and function using NetworkX. Proceedings of the 7th Python in Science Conference (SciPy 2008) (SciPy):11–15.\n",
    "\n",
    "- Hakimi, S. L. 1964. Optimum Locations of Switching Centers and the Absolute Centers and Medians of a Graph. Operations Research 12 (3):450–459.\n",
    "\n",
    "- Hall, J., L. Hafer, M. Saltzman, and J. Forrest. CLP.\n",
    "\n",
    "- Halpern, J. 1976. The Location of a Center-Median Convex Combination on an Undirected Tree. Journal of Regional Science 16 (2):237–245.\n",
    "\n",
    "- Hamacher, H. W., and S. Nickel. 1998. Classification of location models. Location Science 6 (1-4):229–242.\n",
    "\n",
    "- Horner, M. W., and M. J. Widener. 2010. How do socioeconomic characteristics interact with equity and efficiency considerations? An analysis of hurricane disaster relief goods provision. Geospatial Analysis and Modelling of Urban Structure and Dynamics 99:393–414.\n",
    "\n",
    "- Horner, M. W., and M. J. Widener. 2011. The effects of transportation network failure on people’s accessibility to hurricane disaster relief goods: A modeling approach and application to a Florida case study. Natural Hazards 59:1619–1634.\n",
    "\n",
    "- Hunter, J. D. 2007. Matplotlib: A 2D graphics environment. Computing in Science and Engineering 9 (3):99–104.\n",
    "\n",
    "- Lima, I. 2006. Python for Scientific Computing Python Overview. Marine Chemistry :10–20.\n",
    "\n",
    "- Lougee-Heimer, R. 2003. The Common Optimization INterface for Operations Research. IBM Journal of Research and Development 47 (1):57–66.\n",
    "\n",
    "- Marcelin, J. M., M. W. Horner, E. E. Ozguven, and A. Kocatepe. 2016. How does accessibility to post-disaster relief compare between the aging and the general population? A spatial network optimization analysis of hurricane relief facility locations. International Journal of Disaster Risk Reduction 15:61–72.\n",
    "\n",
    "- McKinney, W. 2010. Data Structures for Statistical Computing in Python. In Proceedings of the 9th Python in Science Conference, 51–56.\n",
    "\n",
    "- Miller, H. J., and S.-L. Shaw. 2001. Geographic Information Systems for Transportation. New York: Oxford University Press.\n",
    "\n",
    "- Millman, K. J., and M. Aivazis. 2011. Python for scientists and engineers. Computing in Science and Engineering 13 (2):9–12.\n",
    "\n",
    "- Minieka, E. 1970. The m-Center Problem. SIAM Review 12:38–39.\n",
    "\n",
    "- Owen, S. H., and M. S. Daskin. 1998. Strategic facility location: A review. European Journal of Operational Research 111 (3):423–447.\n",
    "\n",
    "- Pérez, F., and B. E. Granger. 2007. IPython: A system for interactive scientific computing. Computing in Science and Engineering 9 (3):21–29.\n",
    "\n",
    "- Pérez-Brito, D., J. A. Moreno-Pérez, and R.-M. Inmaculada. 1997. Finite dominating set for the p-facility cent-dian network location problem. Studies in Locational Analysis (August):1–16.\n",
    "\n",
    "- Pérez-Brito, D., J. A. Moreno-Pérez, and I. Rodrı́guez-Martı́n. 1998. The 2-facility centdian network problem. Location Science 6 (1-4):369–381.\n",
    "\n",
    "- QGIS Development Team. Open Source Geospatial Foundation Project. 2016. QGIS Geographic Information System.\n",
    "\n",
    "- ReVelle, C. S., and R. W. Swain. 1970. Central facilities location. Geographical Analysis 2 (1):30–42.\n",
    "\n",
    "- Rey, S. J., and L. Anselin. 2010. PySAL: A Python Library of Spatial Analytical Methods. In Handbook of Applied Spatial Analysis, eds. M. M. Fischer and A. Getis, 175–193. Springer Berlin Heidelberg.\n",
    "\n",
    "- Shier, D. R. 1977. A Min–Max Theorem for p-Center Problems on a Tree. Transportation Science 11:243–52.\n",
    "\n",
    "- Suzuki, A., and Z. Drezner. 1996. The p-center location problem in an area. Location Science 4 (1-2):69–82.\n",
    "\n",
    "- Tamir, A., J. Puerto, and D. Pérez-Brito. 2002. The centdian subtree on tree networks. Discrete Applied Mathematics 118 (3):263–278.\n",
    "\n",
    "- Teitz, M. B., and P. Bart. 1968. Heuristic Methods for Estimating the Generalized Vertex Median of a Weighted Graph. Operations Research 16 (5):955–961.\n",
    "\n",
    "- Tong, D., and A. T. Murray. 2012. Spatial Optimization in Geography. Annals of the Association of American Geographers 102 (6):1290–1309.\n",
    "\n",
    "- Towhidi, M., and D. Orban. 2011. CyLP.\n",
    "\n",
    "- US Census Bureau. 2015. TIGER/Line® Shapefiles and TIGER/Line® Files. U.S. Census Bureau Geography. https://www.census.gov/geo/maps-data/data/tiger-line.html.\n",
    "\n",
    "- Walt, S. van der, S. C. Colbert, and G. Varoquaux. 2011. The NumPy Array: A Struture for Efficient Numerical Computation. Computing in Science & Engeneering 13:22–30.\n",
    "\n",
    "- William, R. 1971. The M-center problem."
   ]
  },
  {
   "cell_type": "markdown",
   "metadata": {},
   "source": [
    "------------------"
   ]
  }
 ],
 "metadata": {
  "kernelspec": {
   "display_name": "Python 2",
   "language": "python",
   "name": "python2"
  },
  "language_info": {
   "codemirror_mode": {
    "name": "ipython",
    "version": 2
   },
   "file_extension": ".py",
   "mimetype": "text/x-python",
   "name": "python",
   "nbconvert_exporter": "python",
   "pygments_lexer": "ipython2",
   "version": "2.7.10"
  }
 },
 "nbformat": 4,
 "nbformat_minor": 0
}
